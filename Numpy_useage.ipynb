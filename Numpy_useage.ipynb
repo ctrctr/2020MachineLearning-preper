{
  "nbformat": 4,
  "nbformat_minor": 0,
  "metadata": {
    "kernelspec": {
      "display_name": "Python 3",
      "language": "python",
      "name": "python3"
    },
    "language_info": {
      "codemirror_mode": {
        "name": "ipython",
        "version": 3
      },
      "file_extension": ".py",
      "mimetype": "text/x-python",
      "name": "python",
      "nbconvert_exporter": "python",
      "pygments_lexer": "ipython3",
      "version": "3.7.4"
    },
    "colab": {
      "name": "Numpy useage.ipynb",
      "provenance": [],
      "include_colab_link": true
    }
  },
  "cells": [
    {
      "cell_type": "markdown",
      "metadata": {
        "id": "view-in-github",
        "colab_type": "text"
      },
      "source": [
        "<a href=\"https://colab.research.google.com/github/ctrctr/2020MachineLearning-preper/blob/master/Numpy_useage.ipynb\" target=\"_parent\"><img src=\"https://colab.research.google.com/assets/colab-badge.svg\" alt=\"Open In Colab\"/></a>"
      ]
    },
    {
      "cell_type": "markdown",
      "metadata": {
        "id": "cBElHPXC2g8P",
        "colab_type": "text"
      },
      "source": [
        "# Array(数组)\n",
        "* rank（数组的维数）"
      ]
    },
    {
      "cell_type": "code",
      "metadata": {
        "id": "mmVDK_fI2g8T",
        "colab_type": "code",
        "colab": {}
      },
      "source": [
        "import numpy as np"
      ],
      "execution_count": 0,
      "outputs": []
    },
    {
      "cell_type": "code",
      "metadata": {
        "id": "3hzU_fhD2g8Y",
        "colab_type": "code",
        "colab": {},
        "outputId": "5ddffc86-c010-4b4e-d0a9-7fdf7d3da7ec"
      },
      "source": [
        "a = np.array([1,2,3,4,5])\n",
        "a"
      ],
      "execution_count": 0,
      "outputs": [
        {
          "output_type": "execute_result",
          "data": {
            "text/plain": [
              "array([1, 2, 3, 4, 5])"
            ]
          },
          "metadata": {
            "tags": []
          },
          "execution_count": 2
        }
      ]
    },
    {
      "cell_type": "code",
      "metadata": {
        "id": "q9ON-bUM2g8c",
        "colab_type": "code",
        "colab": {},
        "outputId": "28a9ba33-525c-4e67-ced4-d6e36c9e0af1"
      },
      "source": [
        "type(a)  #a的数据类型"
      ],
      "execution_count": 0,
      "outputs": [
        {
          "output_type": "execute_result",
          "data": {
            "text/plain": [
              "numpy.ndarray"
            ]
          },
          "metadata": {
            "tags": []
          },
          "execution_count": 4
        }
      ]
    },
    {
      "cell_type": "code",
      "metadata": {
        "id": "AxtDAAPV2g8f",
        "colab_type": "code",
        "colab": {},
        "outputId": "1e68e4c7-aeed-4b4d-cc4c-50f823ea116c"
      },
      "source": [
        "a.shape #(5, )不确定5是行，还是列，使用reshape的方法，确定行 or 列"
      ],
      "execution_count": 0,
      "outputs": [
        {
          "output_type": "execute_result",
          "data": {
            "text/plain": [
              "(5,)"
            ]
          },
          "metadata": {
            "tags": []
          },
          "execution_count": 6
        }
      ]
    },
    {
      "cell_type": "code",
      "metadata": {
        "id": "cG9Xtefm2g8h",
        "colab_type": "code",
        "colab": {},
        "outputId": "35bad26a-a86d-4339-8b78-67ff6cd9476b"
      },
      "source": [
        "a = a.reshape((1,-1))    #-1 是占位符，实际上是a.shape里的5/1\n",
        "a.shape"
      ],
      "execution_count": 0,
      "outputs": [
        {
          "output_type": "execute_result",
          "data": {
            "text/plain": [
              "(1, 5)"
            ]
          },
          "metadata": {
            "tags": []
          },
          "execution_count": 7
        }
      ]
    },
    {
      "cell_type": "code",
      "metadata": {
        "id": "1w01uYOy2g8j",
        "colab_type": "code",
        "colab": {},
        "outputId": "685c440a-da39-4423-df50-5e147e7d5995"
      },
      "source": [
        "a"
      ],
      "execution_count": 0,
      "outputs": [
        {
          "output_type": "execute_result",
          "data": {
            "text/plain": [
              "array([[1, 2, 3, 4, 5]])"
            ]
          },
          "metadata": {
            "tags": []
          },
          "execution_count": 8
        }
      ]
    },
    {
      "cell_type": "code",
      "metadata": {
        "id": "sJqJc1ts2g8l",
        "colab_type": "code",
        "colab": {},
        "outputId": "1041d06c-7911-4193-a383-c078e7824d04"
      },
      "source": [
        "a = a.reshape((5,-1))\n",
        "a.shape"
      ],
      "execution_count": 0,
      "outputs": [
        {
          "output_type": "execute_result",
          "data": {
            "text/plain": [
              "(5, 1)"
            ]
          },
          "metadata": {
            "tags": []
          },
          "execution_count": 10
        }
      ]
    },
    {
      "cell_type": "code",
      "metadata": {
        "id": "rbvm1YpK2g8o",
        "colab_type": "code",
        "colab": {},
        "outputId": "2740cfcd-2e97-4465-8922-4c4fee681c14"
      },
      "source": [
        "a"
      ],
      "execution_count": 0,
      "outputs": [
        {
          "output_type": "execute_result",
          "data": {
            "text/plain": [
              "array([[1],\n",
              "       [2],\n",
              "       [3],\n",
              "       [4],\n",
              "       [5]])"
            ]
          },
          "metadata": {
            "tags": []
          },
          "execution_count": 11
        }
      ]
    },
    {
      "cell_type": "code",
      "metadata": {
        "id": "H44582la2g8q",
        "colab_type": "code",
        "colab": {}
      },
      "source": [
        "b= np.array([1,2,3,4,5,6])"
      ],
      "execution_count": 0,
      "outputs": []
    },
    {
      "cell_type": "code",
      "metadata": {
        "id": "03kcS2pD2g8s",
        "colab_type": "code",
        "colab": {},
        "outputId": "da920e54-b87b-4736-ecdd-894f2a6ea602"
      },
      "source": [
        "b"
      ],
      "execution_count": 0,
      "outputs": [
        {
          "output_type": "execute_result",
          "data": {
            "text/plain": [
              "array([1, 2, 3, 4, 5, 6])"
            ]
          },
          "metadata": {
            "tags": []
          },
          "execution_count": 13
        }
      ]
    },
    {
      "cell_type": "code",
      "metadata": {
        "id": "RK0MG2So2g8u",
        "colab_type": "code",
        "colab": {},
        "outputId": "99f75449-d9a1-4607-deed-359e3095d08c"
      },
      "source": [
        "b = b.reshape(3,-1)          #-1 是占位符，实际上是a.shape里的6/3\n",
        "b.shape"
      ],
      "execution_count": 0,
      "outputs": [
        {
          "output_type": "execute_result",
          "data": {
            "text/plain": [
              "(3, 2)"
            ]
          },
          "metadata": {
            "tags": []
          },
          "execution_count": 15
        }
      ]
    },
    {
      "cell_type": "code",
      "metadata": {
        "id": "J98_VCQJ2g8w",
        "colab_type": "code",
        "colab": {},
        "outputId": "4206ace0-715f-4fee-a508-f067b2d08fd5"
      },
      "source": [
        "b"
      ],
      "execution_count": 0,
      "outputs": [
        {
          "output_type": "execute_result",
          "data": {
            "text/plain": [
              "array([[1, 2],\n",
              "       [3, 4],\n",
              "       [5, 6]])"
            ]
          },
          "metadata": {
            "tags": []
          },
          "execution_count": 16
        }
      ]
    },
    {
      "cell_type": "code",
      "metadata": {
        "id": "o3oOVfY52g8y",
        "colab_type": "code",
        "colab": {},
        "outputId": "a1f90685-9fc0-4bea-c0e1-33e70a88a6d1"
      },
      "source": [
        "a[2,0]"
      ],
      "execution_count": 0,
      "outputs": [
        {
          "output_type": "execute_result",
          "data": {
            "text/plain": [
              "3"
            ]
          },
          "metadata": {
            "tags": []
          },
          "execution_count": 20
        }
      ]
    },
    {
      "cell_type": "code",
      "metadata": {
        "id": "pnPBIK5N2g80",
        "colab_type": "code",
        "colab": {},
        "outputId": "11d69c53-37d9-4701-ab9f-14b61ad91b9e"
      },
      "source": [
        "b[2,0] = 55       #array中替换某个item的方法\n",
        "b"
      ],
      "execution_count": 0,
      "outputs": [
        {
          "output_type": "execute_result",
          "data": {
            "text/plain": [
              "array([[ 1,  2],\n",
              "       [ 3,  4],\n",
              "       [55,  6]])"
            ]
          },
          "metadata": {
            "tags": []
          },
          "execution_count": 26
        }
      ]
    },
    {
      "cell_type": "markdown",
      "metadata": {
        "id": "SRKFHzu_2g81",
        "colab_type": "text"
      },
      "source": [
        "## 创建数组的函数\n",
        "1. zeros  创建全是0的数组\n",
        "2. ones  创建全是1的数组 \n",
        "3. full  创建全是n的数组\n",
        "4. eys  创建单位矩阵\n",
        "[1,0,0]\n",
        "[0,1,0]\n",
        "[0,0,1]\n",
        "5. random.random 创建随机数组，数组中的元素全部都是（0，1）的随机数"
      ]
    },
    {
      "cell_type": "code",
      "metadata": {
        "id": "cx_tm9yo2g82",
        "colab_type": "code",
        "colab": {}
      },
      "source": [
        "c = np.zeros((2,3))  # 一定要加（），否则报错（亲犯）\n"
      ],
      "execution_count": 0,
      "outputs": []
    },
    {
      "cell_type": "code",
      "metadata": {
        "id": "U0v8cor52g84",
        "colab_type": "code",
        "colab": {},
        "outputId": "3d06fb12-aa3d-4fce-b58c-7709584f6bbe"
      },
      "source": [
        "c"
      ],
      "execution_count": 0,
      "outputs": [
        {
          "output_type": "execute_result",
          "data": {
            "text/plain": [
              "array([[0., 0., 0.],\n",
              "       [0., 0., 0.]])"
            ]
          },
          "metadata": {
            "tags": []
          },
          "execution_count": 29
        }
      ]
    },
    {
      "cell_type": "code",
      "metadata": {
        "id": "R-qh48z82g86",
        "colab_type": "code",
        "colab": {}
      },
      "source": [
        "d = np.ones((3,3))"
      ],
      "execution_count": 0,
      "outputs": []
    },
    {
      "cell_type": "code",
      "metadata": {
        "id": "zREPQbBO2g88",
        "colab_type": "code",
        "colab": {},
        "outputId": "77c64313-740b-43da-cdea-a009e879f901"
      },
      "source": [
        "d"
      ],
      "execution_count": 0,
      "outputs": [
        {
          "output_type": "execute_result",
          "data": {
            "text/plain": [
              "array([[1., 1., 1.],\n",
              "       [1., 1., 1.],\n",
              "       [1., 1., 1.]])"
            ]
          },
          "metadata": {
            "tags": []
          },
          "execution_count": 31
        }
      ]
    },
    {
      "cell_type": "code",
      "metadata": {
        "id": "zfK0NTpF2g8-",
        "colab_type": "code",
        "colab": {}
      },
      "source": [
        "e = np.full((2,2),3)"
      ],
      "execution_count": 0,
      "outputs": []
    },
    {
      "cell_type": "code",
      "metadata": {
        "id": "e2ITQzmI2g9C",
        "colab_type": "code",
        "colab": {},
        "outputId": "ac5b11e6-07af-453a-c0f9-d9dc6e181d2e"
      },
      "source": [
        "e"
      ],
      "execution_count": 0,
      "outputs": [
        {
          "output_type": "execute_result",
          "data": {
            "text/plain": [
              "array([[3, 3],\n",
              "       [3, 3]])"
            ]
          },
          "metadata": {
            "tags": []
          },
          "execution_count": 33
        }
      ]
    },
    {
      "cell_type": "code",
      "metadata": {
        "id": "l5dFakIR2g9F",
        "colab_type": "code",
        "colab": {}
      },
      "source": [
        "f = np.eye(3)"
      ],
      "execution_count": 0,
      "outputs": []
    },
    {
      "cell_type": "code",
      "metadata": {
        "id": "szFvCahh2g9I",
        "colab_type": "code",
        "colab": {},
        "outputId": "2e3fcdd2-53df-4b03-963b-f233d0db3849"
      },
      "source": [
        "f"
      ],
      "execution_count": 0,
      "outputs": [
        {
          "output_type": "execute_result",
          "data": {
            "text/plain": [
              "array([[1., 0., 0.],\n",
              "       [0., 1., 0.],\n",
              "       [0., 0., 1.]])"
            ]
          },
          "metadata": {
            "tags": []
          },
          "execution_count": 35
        }
      ]
    },
    {
      "cell_type": "code",
      "metadata": {
        "id": "u7GpODCp2g9K",
        "colab_type": "code",
        "colab": {}
      },
      "source": [
        "g = np.random.random((2,3))"
      ],
      "execution_count": 0,
      "outputs": []
    },
    {
      "cell_type": "code",
      "metadata": {
        "id": "BGsIjPi92g9M",
        "colab_type": "code",
        "colab": {},
        "outputId": "78e33653-5561-4210-9ad9-93cc59bb99e5"
      },
      "source": [
        "g"
      ],
      "execution_count": 0,
      "outputs": [
        {
          "output_type": "execute_result",
          "data": {
            "text/plain": [
              "array([[0.75512106, 0.40463419, 0.9990436 ],\n",
              "       [0.36205151, 0.40731982, 0.06070362]])"
            ]
          },
          "metadata": {
            "tags": []
          },
          "execution_count": 38
        }
      ]
    },
    {
      "cell_type": "markdown",
      "metadata": {
        "id": "ClmXmuTN2g9N",
        "colab_type": "text"
      },
      "source": [
        "# indexing"
      ]
    },
    {
      "cell_type": "code",
      "metadata": {
        "id": "n2EKrpHV2g9O",
        "colab_type": "code",
        "colab": {},
        "outputId": "593f1fc9-bd31-4c03-88ab-e8974c74a47b"
      },
      "source": [
        "h = np.array([[1,2,3,4],\n",
        "             [5,6,7,8],\n",
        "             [9,10,11,12]])\n",
        "h"
      ],
      "execution_count": 0,
      "outputs": [
        {
          "output_type": "execute_result",
          "data": {
            "text/plain": [
              "array([[ 1,  2,  3,  4],\n",
              "       [ 5,  6,  7,  8],\n",
              "       [ 9, 10, 11, 12]])"
            ]
          },
          "metadata": {
            "tags": []
          },
          "execution_count": 116
        }
      ]
    },
    {
      "cell_type": "code",
      "metadata": {
        "id": "GDUZcoWV2g9P",
        "colab_type": "code",
        "colab": {},
        "outputId": "72ea4e9a-821b-4873-a3fb-803e3e865f9a"
      },
      "source": [
        "i = h[-2:,1:3]   \n",
        "i"
      ],
      "execution_count": 0,
      "outputs": [
        {
          "output_type": "execute_result",
          "data": {
            "text/plain": [
              "array([[ 6,  7],\n",
              "       [10, 11]])"
            ]
          },
          "metadata": {
            "tags": []
          },
          "execution_count": 92
        }
      ]
    },
    {
      "cell_type": "markdown",
      "metadata": {
        "id": "dfukWoDX2g9R",
        "colab_type": "text"
      },
      "source": [
        "-2 倒数第二行 :表示从倒数第二行一直到最后（从倒数第二行到倒数第n行）\n",
        "\n",
        "1：3 从第一列开始，往后数（3-1）列"
      ]
    },
    {
      "cell_type": "code",
      "metadata": {
        "id": "EgAvX3RY2g9S",
        "colab_type": "code",
        "colab": {},
        "outputId": "0d75aee5-521a-4734-a400-d9bf76b5624f"
      },
      "source": [
        "i.shape"
      ],
      "execution_count": 0,
      "outputs": [
        {
          "output_type": "execute_result",
          "data": {
            "text/plain": [
              "(2, 2)"
            ]
          },
          "metadata": {
            "tags": []
          },
          "execution_count": 93
        }
      ]
    },
    {
      "cell_type": "code",
      "metadata": {
        "id": "ZaMh_iBN2g9T",
        "colab_type": "code",
        "colab": {},
        "outputId": "00a220b6-97a8-4b79-daa3-8f5628268797"
      },
      "source": [
        "j = h[2,3]"
      ],
      "execution_count": 0,
      "outputs": [
        {
          "output_type": "execute_result",
          "data": {
            "text/plain": [
              "array([[ 1,  2,  3,  4],\n",
              "       [ 5,  6,  7,  8],\n",
              "       [ 9, 10, 11, 12]])"
            ]
          },
          "metadata": {
            "tags": []
          },
          "execution_count": 106
        }
      ]
    },
    {
      "cell_type": "code",
      "metadata": {
        "id": "kTUh0AtR2g9V",
        "colab_type": "code",
        "colab": {},
        "outputId": "2969c2cd-79e3-422c-9f83-e30a57e08e39"
      },
      "source": [
        "j.shape"
      ],
      "execution_count": 0,
      "outputs": [
        {
          "output_type": "execute_result",
          "data": {
            "text/plain": [
              "()"
            ]
          },
          "metadata": {
            "tags": []
          },
          "execution_count": 91
        }
      ]
    },
    {
      "cell_type": "code",
      "metadata": {
        "id": "euZv3MH-2g9X",
        "colab_type": "code",
        "colab": {},
        "outputId": "ec2661ac-ff09-49d5-ad59-ffbe092dd4cf"
      },
      "source": [
        "k = h[1:,1:3]\n",
        "k"
      ],
      "execution_count": 0,
      "outputs": [
        {
          "output_type": "execute_result",
          "data": {
            "text/plain": [
              "array([[ 6,  7],\n",
              "       [10, 11]])"
            ]
          },
          "metadata": {
            "tags": []
          },
          "execution_count": 94
        }
      ]
    },
    {
      "cell_type": "code",
      "metadata": {
        "id": "xqmIfdjw2g9Z",
        "colab_type": "code",
        "colab": {},
        "outputId": "bc0c48b6-92ae-44a2-b008-d5c6b07d6e13"
      },
      "source": [
        "k.shape\n",
        "h"
      ],
      "execution_count": 0,
      "outputs": [
        {
          "output_type": "execute_result",
          "data": {
            "text/plain": [
              "array([[ 1, 32,  3,  4],\n",
              "       [ 5, 36,  7,  8],\n",
              "       [ 9, 40, 11, 12]])"
            ]
          },
          "metadata": {
            "tags": []
          },
          "execution_count": 115
        }
      ]
    },
    {
      "cell_type": "markdown",
      "metadata": {
        "id": "a70P8Y0c2g9b",
        "colab_type": "text"
      },
      "source": [
        "## 需求：为h的每行的第二个元素加10"
      ]
    },
    {
      "cell_type": "code",
      "metadata": {
        "id": "3WUsx68O2g9b",
        "colab_type": "code",
        "colab": {},
        "outputId": "7839feba-b577-4516-8cf0-8d4e130d0076"
      },
      "source": [
        "h[[0,1,2],[1,1,1]] += 10                      #比较笨的方法\n",
        "h"
      ],
      "execution_count": 0,
      "outputs": [
        {
          "output_type": "execute_result",
          "data": {
            "text/plain": [
              "array([[ 1, 12,  3,  4],\n",
              "       [ 5, 16,  7,  8],\n",
              "       [ 9, 20, 11, 12]])"
            ]
          },
          "metadata": {
            "tags": []
          },
          "execution_count": 118
        }
      ]
    },
    {
      "cell_type": "code",
      "metadata": {
        "id": "3WNj4iUu2g9d",
        "colab_type": "code",
        "colab": {},
        "outputId": "a7740005-72b9-4f6f-d48a-10ebf34719b4"
      },
      "source": [
        "h[np.arange(3),1] +=10                      # 第二种方法   np.arange(3,7)=>[3,4,5,6]\n",
        "h"
      ],
      "execution_count": 0,
      "outputs": [
        {
          "output_type": "execute_result",
          "data": {
            "text/plain": [
              "array([[ 1, 22,  3,  4],\n",
              "       [ 5, 26,  7,  8],\n",
              "       [ 9, 30, 11, 12]])"
            ]
          },
          "metadata": {
            "tags": []
          },
          "execution_count": 119
        }
      ]
    },
    {
      "cell_type": "markdown",
      "metadata": {
        "id": "p2C6ixyc2g9f",
        "colab_type": "text"
      },
      "source": [
        "## 需求：获取数组中所有大于10的数"
      ]
    },
    {
      "cell_type": "code",
      "metadata": {
        "id": "Tt2GbU-_2g9f",
        "colab_type": "code",
        "colab": {},
        "outputId": "6066fac7-3f1a-4009-c0db-78c4cecb76f1"
      },
      "source": [
        "result_index = h>10\n",
        "result_index"
      ],
      "execution_count": 0,
      "outputs": [
        {
          "output_type": "execute_result",
          "data": {
            "text/plain": [
              "array([[False,  True, False, False],\n",
              "       [False,  True, False, False],\n",
              "       [False,  True,  True,  True]])"
            ]
          },
          "metadata": {
            "tags": []
          },
          "execution_count": 121
        }
      ]
    },
    {
      "cell_type": "code",
      "metadata": {
        "id": "4Y2hPjpw2g9h",
        "colab_type": "code",
        "colab": {},
        "outputId": "fcf4b2ac-24ed-4c3f-fcfc-07267b52f434"
      },
      "source": [
        "h[result_index]"
      ],
      "execution_count": 0,
      "outputs": [
        {
          "output_type": "execute_result",
          "data": {
            "text/plain": [
              "array([22, 26, 30, 11, 12])"
            ]
          },
          "metadata": {
            "tags": []
          },
          "execution_count": 123
        }
      ]
    },
    {
      "cell_type": "code",
      "metadata": {
        "id": "Dbty2SRB2g9j",
        "colab_type": "code",
        "colab": {},
        "outputId": "18429834-eb64-4b20-df52-d0ceb1a75748"
      },
      "source": [
        "h[h>10]"
      ],
      "execution_count": 0,
      "outputs": [
        {
          "output_type": "execute_result",
          "data": {
            "text/plain": [
              "array([22, 26, 30, 11, 12])"
            ]
          },
          "metadata": {
            "tags": []
          },
          "execution_count": 124
        }
      ]
    },
    {
      "cell_type": "markdown",
      "metadata": {
        "id": "Eb8tGuOS2g9l",
        "colab_type": "text"
      },
      "source": [
        "  # 元素的数据类型    "
      ]
    },
    {
      "cell_type": "code",
      "metadata": {
        "id": "yh5oz6w-2g9m",
        "colab_type": "code",
        "colab": {},
        "outputId": "ab6d3fc8-fcc5-4dff-88c6-c2f665e5757a"
      },
      "source": [
        "l = np.array([1,2])\n",
        "l"
      ],
      "execution_count": 0,
      "outputs": [
        {
          "output_type": "execute_result",
          "data": {
            "text/plain": [
              "array([1, 2])"
            ]
          },
          "metadata": {
            "tags": []
          },
          "execution_count": 126
        }
      ]
    },
    {
      "cell_type": "code",
      "metadata": {
        "id": "mQbzGfrx2g9o",
        "colab_type": "code",
        "colab": {},
        "outputId": "b7835557-15f7-4e89-bdb6-e6d4b7dbe819"
      },
      "source": [
        "l.dtype"
      ],
      "execution_count": 0,
      "outputs": [
        {
          "output_type": "execute_result",
          "data": {
            "text/plain": [
              "dtype('int32')"
            ]
          },
          "metadata": {
            "tags": []
          },
          "execution_count": 129
        }
      ]
    },
    {
      "cell_type": "code",
      "metadata": {
        "id": "JILLWao42g9q",
        "colab_type": "code",
        "colab": {}
      },
      "source": [
        "m = np.array([1.1,2.2,3])"
      ],
      "execution_count": 0,
      "outputs": []
    },
    {
      "cell_type": "code",
      "metadata": {
        "id": "BBVlTs_I2g9s",
        "colab_type": "code",
        "colab": {},
        "outputId": "7062a0f6-6292-4a73-b1cc-c70f47a44270"
      },
      "source": [
        "m.dtype"
      ],
      "execution_count": 0,
      "outputs": [
        {
          "output_type": "execute_result",
          "data": {
            "text/plain": [
              "dtype('float64')"
            ]
          },
          "metadata": {
            "tags": []
          },
          "execution_count": 131
        }
      ]
    },
    {
      "cell_type": "markdown",
      "metadata": {
        "id": "-ocOqP302g9t",
        "colab_type": "text"
      },
      "source": [
        "##  需求：只取数组中元素的整数部分"
      ]
    },
    {
      "cell_type": "code",
      "metadata": {
        "id": "1jPchgiT2g9u",
        "colab_type": "code",
        "colab": {},
        "outputId": "92e6e101-2a5e-4717-cbd1-55f051ea4a25"
      },
      "source": [
        "o = np.array([1.1,2.2],dtype=np.int64)\n",
        "o"
      ],
      "execution_count": 0,
      "outputs": [
        {
          "output_type": "execute_result",
          "data": {
            "text/plain": [
              "array([1, 2], dtype=int64)"
            ]
          },
          "metadata": {
            "tags": []
          },
          "execution_count": 135
        }
      ]
    },
    {
      "cell_type": "code",
      "metadata": {
        "id": "Se04DBRf2g9w",
        "colab_type": "code",
        "colab": {},
        "outputId": "18e2f666-8614-475a-a769-417039c23232"
      },
      "source": [
        "p = np.array(m,dtype=np.int64)\n",
        "p"
      ],
      "execution_count": 0,
      "outputs": [
        {
          "output_type": "execute_result",
          "data": {
            "text/plain": [
              "array([1, 2, 3], dtype=int64)"
            ]
          },
          "metadata": {
            "tags": []
          },
          "execution_count": 137
        }
      ]
    },
    {
      "cell_type": "markdown",
      "metadata": {
        "id": "URAKde3y2g9y",
        "colab_type": "text"
      },
      "source": [
        "# 矩阵运算与运算常用函数"
      ]
    },
    {
      "cell_type": "code",
      "metadata": {
        "id": "7aqmN5jI2g9z",
        "colab_type": "code",
        "colab": {},
        "outputId": "a63080ac-f74a-4bd6-d428-74b738af3ac7"
      },
      "source": [
        "w = np.array([[2,3],\n",
        "             [4,5]])\n",
        "w"
      ],
      "execution_count": 0,
      "outputs": [
        {
          "output_type": "execute_result",
          "data": {
            "text/plain": [
              "array([[2, 3],\n",
              "       [4, 5]])"
            ]
          },
          "metadata": {
            "tags": []
          },
          "execution_count": 144
        }
      ]
    },
    {
      "cell_type": "code",
      "metadata": {
        "id": "3RqtAjoy2g92",
        "colab_type": "code",
        "colab": {},
        "outputId": "698dcb2c-f3f5-4388-a4b1-f675b920408e"
      },
      "source": [
        "y = np.array([[1,2],\n",
        "            [3,4]])"
      ],
      "execution_count": 0,
      "outputs": [
        {
          "output_type": "execute_result",
          "data": {
            "text/plain": [
              "array([[1, 2],\n",
              "       [3, 4]])"
            ]
          },
          "metadata": {
            "tags": []
          },
          "execution_count": 141
        }
      ]
    },
    {
      "cell_type": "code",
      "metadata": {
        "id": "euwvZ_3p2g94",
        "colab_type": "code",
        "colab": {},
        "outputId": "55bdadd1-2e5b-47d1-adbd-d1fb7b8d0da6"
      },
      "source": [
        "z = np.array([[1,2,3],\n",
        "             [4,5,6]])\n",
        "z"
      ],
      "execution_count": 0,
      "outputs": [
        {
          "output_type": "execute_result",
          "data": {
            "text/plain": [
              "array([[1, 2, 3],\n",
              "       [4, 5, 6]])"
            ]
          },
          "metadata": {
            "tags": []
          },
          "execution_count": 142
        }
      ]
    },
    {
      "cell_type": "code",
      "metadata": {
        "id": "esgdXM6P2g97",
        "colab_type": "code",
        "colab": {},
        "outputId": "16317a44-89ec-488c-eb8b-5cf03b150048"
      },
      "source": [
        "w+y"
      ],
      "execution_count": 0,
      "outputs": [
        {
          "output_type": "execute_result",
          "data": {
            "text/plain": [
              "array([[3, 5],\n",
              "       [7, 9]])"
            ]
          },
          "metadata": {
            "tags": []
          },
          "execution_count": 145
        }
      ]
    },
    {
      "cell_type": "code",
      "metadata": {
        "id": "IqhajB0v2g99",
        "colab_type": "code",
        "colab": {},
        "outputId": "8afe1613-bd26-4045-af00-b2e3177590b5"
      },
      "source": [
        "np.add(w,y)                 # The same with w+y"
      ],
      "execution_count": 0,
      "outputs": [
        {
          "output_type": "execute_result",
          "data": {
            "text/plain": [
              "array([[3, 5],\n",
              "       [7, 9]])"
            ]
          },
          "metadata": {
            "tags": []
          },
          "execution_count": 146
        }
      ]
    },
    {
      "cell_type": "code",
      "metadata": {
        "id": "V6fVSfx32g-B",
        "colab_type": "code",
        "colab": {},
        "outputId": "4b2ee9d2-f698-4184-d321-355a64388962"
      },
      "source": [
        "w-y"
      ],
      "execution_count": 0,
      "outputs": [
        {
          "output_type": "execute_result",
          "data": {
            "text/plain": [
              "array([[1, 1],\n",
              "       [1, 1]])"
            ]
          },
          "metadata": {
            "tags": []
          },
          "execution_count": 147
        }
      ]
    },
    {
      "cell_type": "code",
      "metadata": {
        "id": "RTF0Opx42g-D",
        "colab_type": "code",
        "colab": {},
        "outputId": "33950e97-0895-4d67-920a-cd1d1dc1e13b"
      },
      "source": [
        "np.subtract(w,y)            # The same with w-y"
      ],
      "execution_count": 0,
      "outputs": [
        {
          "output_type": "execute_result",
          "data": {
            "text/plain": [
              "array([[1, 1],\n",
              "       [1, 1]])"
            ]
          },
          "metadata": {
            "tags": []
          },
          "execution_count": 148
        }
      ]
    },
    {
      "cell_type": "code",
      "metadata": {
        "id": "L329z3jT2g-E",
        "colab_type": "code",
        "colab": {},
        "outputId": "524ac475-7e8e-4336-c9f4-8d1a2e3dd580"
      },
      "source": [
        "w*2"
      ],
      "execution_count": 0,
      "outputs": [
        {
          "output_type": "execute_result",
          "data": {
            "text/plain": [
              "array([[ 4,  6],\n",
              "       [ 8, 10]])"
            ]
          },
          "metadata": {
            "tags": []
          },
          "execution_count": 149
        }
      ]
    },
    {
      "cell_type": "code",
      "metadata": {
        "id": "ZRZM-mKk2g-G",
        "colab_type": "code",
        "colab": {},
        "outputId": "ab9028ce-e16a-4341-b5cd-c43dce442711"
      },
      "source": [
        "np.multiply(w,2)            # The same with w*2"
      ],
      "execution_count": 0,
      "outputs": [
        {
          "output_type": "execute_result",
          "data": {
            "text/plain": [
              "array([[ 4,  6],\n",
              "       [ 8, 10]])"
            ]
          },
          "metadata": {
            "tags": []
          },
          "execution_count": 150
        }
      ]
    },
    {
      "cell_type": "code",
      "metadata": {
        "id": "LPUdyVu52g-I",
        "colab_type": "code",
        "colab": {},
        "outputId": "d3994a39-dc6c-42fb-cfae-edf036a50f8e"
      },
      "source": [
        "np.multiply(w,y)           # multiply 可以用在行列相等的乘法运算中"
      ],
      "execution_count": 0,
      "outputs": [
        {
          "output_type": "execute_result",
          "data": {
            "text/plain": [
              "array([[ 2,  6],\n",
              "       [12, 20]])"
            ]
          },
          "metadata": {
            "tags": []
          },
          "execution_count": 151
        }
      ]
    },
    {
      "cell_type": "code",
      "metadata": {
        "id": "vphDlvcH2g-J",
        "colab_type": "code",
        "colab": {},
        "outputId": "e04324f2-05b8-4767-f11f-5b0aeb34ad8b"
      },
      "source": [
        "w/2"
      ],
      "execution_count": 0,
      "outputs": [
        {
          "output_type": "execute_result",
          "data": {
            "text/plain": [
              "array([[1. , 1.5],\n",
              "       [2. , 2.5]])"
            ]
          },
          "metadata": {
            "tags": []
          },
          "execution_count": 154
        }
      ]
    },
    {
      "cell_type": "code",
      "metadata": {
        "id": "7S9LrhMc2g-K",
        "colab_type": "code",
        "colab": {},
        "outputId": "c27c90c1-877c-4a62-ee69-be1fad4e04cf"
      },
      "source": [
        "np.divide(w,2)             # divide 和 multiply 类似"
      ],
      "execution_count": 0,
      "outputs": [
        {
          "output_type": "execute_result",
          "data": {
            "text/plain": [
              "array([[1. , 1.5],\n",
              "       [2. , 2.5]])"
            ]
          },
          "metadata": {
            "tags": []
          },
          "execution_count": 155
        }
      ]
    },
    {
      "cell_type": "code",
      "metadata": {
        "id": "xQ7RkwaC2g-M",
        "colab_type": "code",
        "colab": {},
        "outputId": "df80a881-f58c-455d-c58d-a7f6b14480e3"
      },
      "source": [
        "np.sqrt(w)                 # 开方操作"
      ],
      "execution_count": 0,
      "outputs": [
        {
          "output_type": "execute_result",
          "data": {
            "text/plain": [
              "array([[1.41421356, 1.73205081],\n",
              "       [2.        , 2.23606798]])"
            ]
          },
          "metadata": {
            "tags": []
          },
          "execution_count": 156
        }
      ]
    },
    {
      "cell_type": "code",
      "metadata": {
        "id": "hXvdylaF2g-O",
        "colab_type": "code",
        "colab": {},
        "outputId": "8cecfe9b-7f87-4246-e5e9-545d93a2056c"
      },
      "source": [
        "np.dot(y,z)                #矩阵乘法操作"
      ],
      "execution_count": 0,
      "outputs": [
        {
          "output_type": "execute_result",
          "data": {
            "text/plain": [
              "array([[ 9, 12, 15],\n",
              "       [19, 26, 33]])"
            ]
          },
          "metadata": {
            "tags": []
          },
          "execution_count": 157
        }
      ]
    },
    {
      "cell_type": "markdown",
      "metadata": {
        "id": "pORDcrwF2g-P",
        "colab_type": "text"
      },
      "source": [
        "## 常用函数\n",
        "1. sum 求和\n",
        "2. mean  求平均\n",
        "3. uniform  随机生成，搭配random使用\n",
        "3. tile   重复  \n",
        "np.tile(w,(1,2))： 将W看成一个item，在行上重复1次，在列上重复2次\n",
        "4. argsort 排序（默认按行排序）\n",
        "5. transpose 转置 同T"
      ]
    },
    {
      "cell_type": "code",
      "metadata": {
        "id": "H01-crTw2g-P",
        "colab_type": "code",
        "colab": {},
        "outputId": "264df320-ecbb-4fc7-9243-3df463cdf5b4"
      },
      "source": [
        "w"
      ],
      "execution_count": 0,
      "outputs": [
        {
          "output_type": "execute_result",
          "data": {
            "text/plain": [
              "array([[2, 3],\n",
              "       [4, 5]])"
            ]
          },
          "metadata": {
            "tags": []
          },
          "execution_count": 159
        }
      ]
    },
    {
      "cell_type": "code",
      "metadata": {
        "id": "oQWuv_CL2g-Q",
        "colab_type": "code",
        "colab": {},
        "outputId": "b6f07790-beca-480d-8129-1eb8f389c5ac"
      },
      "source": [
        "np.sum(w)                           # sum 求和"
      ],
      "execution_count": 0,
      "outputs": [
        {
          "output_type": "execute_result",
          "data": {
            "text/plain": [
              "14"
            ]
          },
          "metadata": {
            "tags": []
          },
          "execution_count": 158
        }
      ]
    },
    {
      "cell_type": "code",
      "metadata": {
        "id": "pWVzEg_H2g-T",
        "colab_type": "code",
        "colab": {},
        "outputId": "1ba70863-954f-43ec-fde3-dbf0495502fe"
      },
      "source": [
        "np.sum(w,axis=0)                    #当axis等于0，看列；"
      ],
      "execution_count": 0,
      "outputs": [
        {
          "output_type": "execute_result",
          "data": {
            "text/plain": [
              "array([6, 8])"
            ]
          },
          "metadata": {
            "tags": []
          },
          "execution_count": 160
        }
      ]
    },
    {
      "cell_type": "code",
      "metadata": {
        "id": "pgKWJJQm2g-V",
        "colab_type": "code",
        "colab": {},
        "outputId": "374b4dcc-83cc-4b86-f76a-52e423119b92"
      },
      "source": [
        "np.mean(w)                          # mean求平均"
      ],
      "execution_count": 0,
      "outputs": [
        {
          "output_type": "execute_result",
          "data": {
            "text/plain": [
              "3.5"
            ]
          },
          "metadata": {
            "tags": []
          },
          "execution_count": 161
        }
      ]
    },
    {
      "cell_type": "code",
      "metadata": {
        "id": "KlgjqdbY2g-X",
        "colab_type": "code",
        "colab": {},
        "outputId": "2460dbac-0a4b-4e23-b26e-3507be128ced"
      },
      "source": [
        "np.mean(w,axis=1)                  # 当axis等一一，看行"
      ],
      "execution_count": 0,
      "outputs": [
        {
          "output_type": "execute_result",
          "data": {
            "text/plain": [
              "array([2.5, 4.5])"
            ]
          },
          "metadata": {
            "tags": []
          },
          "execution_count": 162
        }
      ]
    },
    {
      "cell_type": "code",
      "metadata": {
        "id": "_sHzRili2g-Y",
        "colab_type": "code",
        "colab": {},
        "outputId": "770845e5-6a8e-43e5-efef-46b390e49d01"
      },
      "source": [
        "np.random.uniform(2,3)           #随机生成（2，3）的随机数；小数"
      ],
      "execution_count": 0,
      "outputs": [
        {
          "output_type": "execute_result",
          "data": {
            "text/plain": [
              "2.0797884863585296"
            ]
          },
          "metadata": {
            "tags": []
          },
          "execution_count": 163
        }
      ]
    },
    {
      "cell_type": "code",
      "metadata": {
        "id": "cal5-1ta2g-a",
        "colab_type": "code",
        "colab": {},
        "outputId": "67368fba-c55a-4a63-eeec-ac50534acddd"
      },
      "source": [
        "np.tile(w,(1,2))                 # 将W看成一个item，在行上重复1次，在列上重复2次"
      ],
      "execution_count": 0,
      "outputs": [
        {
          "output_type": "execute_result",
          "data": {
            "text/plain": [
              "array([[2, 3, 2, 3],\n",
              "       [4, 5, 4, 5]])"
            ]
          },
          "metadata": {
            "tags": []
          },
          "execution_count": 164
        }
      ]
    },
    {
      "cell_type": "code",
      "metadata": {
        "id": "0UTiV9CE2g-c",
        "colab_type": "code",
        "colab": {},
        "outputId": "7db25abf-a987-4807-dbbc-0512fc02fc5a"
      },
      "source": [
        "z"
      ],
      "execution_count": 0,
      "outputs": [
        {
          "output_type": "execute_result",
          "data": {
            "text/plain": [
              "array([[1, 2, 3],\n",
              "       [4, 5, 6]])"
            ]
          },
          "metadata": {
            "tags": []
          },
          "execution_count": 169
        }
      ]
    },
    {
      "cell_type": "code",
      "metadata": {
        "id": "asuLQy_-2g-d",
        "colab_type": "code",
        "colab": {},
        "outputId": "80aeec5a-da0d-441b-a35e-bb6f3ca6ae8e"
      },
      "source": [
        "np.argsort(z)                    # 将数组中的元素按照每一行从小到大排序,返回下标"
      ],
      "execution_count": 0,
      "outputs": [
        {
          "output_type": "execute_result",
          "data": {
            "text/plain": [
              "array([[0, 1, 2],\n",
              "       [0, 1, 2]], dtype=int64)"
            ]
          },
          "metadata": {
            "tags": []
          },
          "execution_count": 170
        }
      ]
    },
    {
      "cell_type": "code",
      "metadata": {
        "id": "UWhO0u2C2g-f",
        "colab_type": "code",
        "colab": {},
        "outputId": "13699c32-44f9-4b6a-ff94-bfe07f6c4560"
      },
      "source": [
        "z.argsort(axis=0)"
      ],
      "execution_count": 0,
      "outputs": [
        {
          "output_type": "execute_result",
          "data": {
            "text/plain": [
              "array([[0, 0, 0],\n",
              "       [1, 1, 1]], dtype=int64)"
            ]
          },
          "metadata": {
            "tags": []
          },
          "execution_count": 171
        }
      ]
    },
    {
      "cell_type": "code",
      "metadata": {
        "id": "e-5AOhsa2g-i",
        "colab_type": "code",
        "colab": {},
        "outputId": "526723db-bff1-4355-9f40-2d5c2d319d53"
      },
      "source": [
        "z.T                            # 转置"
      ],
      "execution_count": 0,
      "outputs": [
        {
          "output_type": "execute_result",
          "data": {
            "text/plain": [
              "array([[1, 4],\n",
              "       [2, 5],\n",
              "       [3, 6]])"
            ]
          },
          "metadata": {
            "tags": []
          },
          "execution_count": 172
        }
      ]
    },
    {
      "cell_type": "code",
      "metadata": {
        "id": "nMc63qno2g-j",
        "colab_type": "code",
        "colab": {},
        "outputId": "abe6af8b-e8a8-446e-c5db-e9cf40b221ce"
      },
      "source": [
        "np.transpose(z)"
      ],
      "execution_count": 0,
      "outputs": [
        {
          "output_type": "execute_result",
          "data": {
            "text/plain": [
              "array([[1, 4],\n",
              "       [2, 5],\n",
              "       [3, 6]])"
            ]
          },
          "metadata": {
            "tags": []
          },
          "execution_count": 173
        }
      ]
    },
    {
      "cell_type": "markdown",
      "metadata": {
        "id": "F4zOdkur2g-k",
        "colab_type": "text"
      },
      "source": [
        "# Numpy 广播特性\n",
        "\n",
        "可以将不同“维度”的数组自动转成想同纬度进行计算\n",
        "强调维度，不是行数列数"
      ]
    },
    {
      "cell_type": "code",
      "metadata": {
        "id": "2Z7GLCvi2g-l",
        "colab_type": "code",
        "colab": {},
        "outputId": "338a02cb-3a02-49b1-cbfa-aae969546d06"
      },
      "source": [
        "y=np.array([[1,2,3],\n",
        "          [4,5,6]])\n",
        "y"
      ],
      "execution_count": 0,
      "outputs": [
        {
          "output_type": "execute_result",
          "data": {
            "text/plain": [
              "array([[1, 2, 3],\n",
              "       [4, 5, 6]])"
            ]
          },
          "metadata": {
            "tags": []
          },
          "execution_count": 187
        }
      ]
    },
    {
      "cell_type": "code",
      "metadata": {
        "id": "8kUcCvoU2g-m",
        "colab_type": "code",
        "colab": {},
        "outputId": "6a44af82-53fa-4d27-91ac-2d8c2e8633bd"
      },
      "source": [
        "z2=np.array([1,2,3])\n",
        "z2"
      ],
      "execution_count": 0,
      "outputs": [
        {
          "output_type": "execute_result",
          "data": {
            "text/plain": [
              "array([1, 2, 3])"
            ]
          },
          "metadata": {
            "tags": []
          },
          "execution_count": 186
        }
      ]
    },
    {
      "cell_type": "code",
      "metadata": {
        "id": "uwTeBjZJ2g-n",
        "colab_type": "code",
        "colab": {},
        "outputId": "7eed9809-2953-4f9c-a906-84021cfbb94c"
      },
      "source": [
        "y+z2"
      ],
      "execution_count": 0,
      "outputs": [
        {
          "output_type": "execute_result",
          "data": {
            "text/plain": [
              "array([[2, 4, 6],\n",
              "       [5, 7, 9]])"
            ]
          },
          "metadata": {
            "tags": []
          },
          "execution_count": 188
        }
      ]
    },
    {
      "cell_type": "code",
      "metadata": {
        "id": "bj4xmA0_2g-o",
        "colab_type": "code",
        "colab": {}
      },
      "source": [
        ""
      ],
      "execution_count": 0,
      "outputs": []
    }
  ]
}